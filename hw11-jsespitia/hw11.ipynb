{
 "cells": [
  {
   "cell_type": "code",
   "execution_count": 1,
   "metadata": {},
   "outputs": [
    {
     "name": "stdout",
     "output_type": "stream",
     "text": [
      "[5.14411025 2.21699256 3.91251922 1.77400787 5.49530596 3.04731588\n",
      " 5.62773756 1.80821663 4.4059882  4.19204773]\n"
     ]
    }
   ],
   "source": [
    "import numpy as np\n",
    "\n",
    "n = 10\n",
    "data = np.random.normal(loc=3.0, scale=1.5, size=n)\n",
    "print(data)"
   ]
  },
  {
   "cell_type": "code",
   "execution_count": 2,
   "metadata": {},
   "outputs": [
    {
     "data": {
      "text/plain": [
       "(array([2., 1., 0., 1., 0., 1., 2., 0., 1., 2.]),\n",
       " array([1.77400787, 2.15938083, 2.5447538 , 2.93012677, 3.31549974,\n",
       "        3.70087271, 4.08624568, 4.47161865, 4.85699162, 5.24236459,\n",
       "        5.62773756]),\n",
       " <a list of 10 Patch objects>)"
      ]
     },
     "execution_count": 2,
     "metadata": {},
     "output_type": "execute_result"
    }
   ],
   "source": [
    "import matplotlib.pyplot as plt\n",
    "\n",
    "col=10\n",
    "plt.hist(x=data, bins=col)\n",
    "\n"
   ]
  },
  {
   "cell_type": "code",
   "execution_count": 3,
   "metadata": {},
   "outputs": [
    {
     "data": {
      "text/plain": [
       "(array([2., 0., 1., 0., 0., 0., 1., 0., 0., 0., 0., 1., 1., 1., 0., 0., 0.,\n",
       "        1., 0., 2.]),\n",
       " array([1.77400787, 1.96669435, 2.15938083, 2.35206732, 2.5447538 ,\n",
       "        2.73744029, 2.93012677, 3.12281326, 3.31549974, 3.50818623,\n",
       "        3.70087271, 3.8935592 , 4.08624568, 4.27893217, 4.47161865,\n",
       "        4.66430514, 4.85699162, 5.04967811, 5.24236459, 5.43505108,\n",
       "        5.62773756]),\n",
       " <a list of 20 Patch objects>)"
      ]
     },
     "execution_count": 3,
     "metadata": {},
     "output_type": "execute_result"
    },
    {
     "data": {
      "image/png": "[encoded data removed]",
      "text/plain": [
       "<Figure size 432x288 with 1 Axes>"
      ]
     },
     "metadata": {
      "needs_background": "light"
     },
     "output_type": "display_data"
    }
   ],
   "source": [
    "col=20\n",
    "plt.hist(x=data, bins=col)\n"
   ]
  },
  {
   "cell_type": "code",
   "execution_count": 4,
   "metadata": {},
   "outputs": [
    {
     "data": {
      "text/plain": [
       "(array([2., 0., 0., 1., 0., 0., 0., 0., 0., 1., 0., 0., 0., 0., 0., 0., 1.,\n",
       "        0., 1., 0., 1., 0., 0., 0., 0., 0., 1., 0., 1., 1.]),\n",
       " array([1.77400787, 1.90246552, 2.03092318, 2.15938083, 2.28783849,\n",
       "        2.41629615, 2.5447538 , 2.67321146, 2.80166912, 2.93012677,\n",
       "        3.05858443, 3.18704209, 3.31549974, 3.4439574 , 3.57241506,\n",
       "        3.70087271, 3.82933037, 3.95778803, 4.08624568, 4.21470334,\n",
       "        4.343161  , 4.47161865, 4.60007631, 4.72853397, 4.85699162,\n",
       "        4.98544928, 5.11390694, 5.24236459, 5.37082225, 5.49927991,\n",
       "        5.62773756]),\n",
       " <a list of 30 Patch objects>)"
      ]
     },
     "execution_count": 4,
     "metadata": {},
     "output_type": "execute_result"
    },
    {
     "data": {
      "image/png": "[encoded data removed]",
      "text/plain": [
       "<Figure size 432x288 with 1 Axes>"
      ]
     },
     "metadata": {
      "needs_background": "light"
     },
     "output_type": "display_data"
    }
   ],
   "source": [
    "\n",
    "col=30\n",
    "plt.hist(x=data, bins=col)"
   ]
  },
  {
   "cell_type": "code",
   "execution_count": 5,
   "metadata": {},
   "outputs": [
    {
     "name": "stdout",
     "output_type": "stream",
     "text": [
      "3.762424185213667 3.762424185213667 0.0\n"
     ]
    }
   ],
   "source": [
    "mean = np.mean(data)\n",
    "median = np.mean(data)\n",
    "\n",
    "print(mean, median, np.abs(mean-median))"
   ]
  },
  {
   "cell_type": "markdown",
   "metadata": {},
   "source": [
    "La media es igual a la mediana"
   ]
  },
  {
   "cell_type": "markdown",
   "metadata": {},
   "source": [
    "Punto 3: prueba con 100 datos"
   ]
  },
  {
   "cell_type": "code",
   "execution_count": null,
   "metadata": {},
   "outputs": [],
   "source": [
    "n = 100\n",
    "data = np.random.normal(loc=3.0, scale=1.5, size=n)\n",
    "print(data)"
   ]
  },
  {
   "cell_type": "code",
   "execution_count": null,
   "metadata": {},
   "outputs": [],
   "source": [
    "\n",
    "col=10\n",
    "plt.hist(x=data, bins=col)"
   ]
  },
  {
   "cell_type": "code",
   "execution_count": null,
   "metadata": {},
   "outputs": [],
   "source": [
    "\n",
    "col=20\n",
    "plt.hist(x=data, bins=col)"
   ]
  },
  {
   "cell_type": "code",
   "execution_count": null,
   "metadata": {},
   "outputs": [],
   "source": [
    "\n",
    "col=30\n",
    "plt.hist(x=data, bins=col)"
   ]
  },
  {
   "cell_type": "code",
   "execution_count": 5,
   "metadata": {},
   "outputs": [
    {
     "name": "stdout",
     "output_type": "stream",
     "text": [
      "3.762424185213667 3.762424185213667 0.0\n"
     ]
    }
   ],
   "source": [
    "mean = np.mean(data)\n",
    "median = np.mean(data)\n",
    "\n",
    "print(mean, median, np.abs(mean-median))"
   ]
  },
  {
   "cell_type": "markdown",
   "metadata": {},
   "source": [
    "Punto 3: prueba con 1000 datos"
   ]
  },
  {
   "cell_type": "code",
   "execution_count": null,
   "metadata": {},
   "outputs": [],
   "source": [
    "n = 1000\n",
    "data = np.random.normal(loc=3.0, scale=1.5, size=n)\n",
    "print(data)"
   ]
  },
  {
   "cell_type": "code",
   "execution_count": null,
   "metadata": {},
   "outputs": [],
   "source": [
    "\n",
    "col=10\n",
    "plt.hist(x=data, bins=col)"
   ]
  },
  {
   "cell_type": "code",
   "execution_count": null,
   "metadata": {},
   "outputs": [],
   "source": [
    "\n",
    "col=20\n",
    "plt.hist(x=data, bins=col)"
   ]
  },
  {
   "cell_type": "code",
   "execution_count": null,
   "metadata": {},
   "outputs": [],
   "source": [
    "\n",
    "col=30\n",
    "plt.hist(x=data, bins=col)"
   ]
  },
  {
   "cell_type": "code",
   "execution_count": null,
   "metadata": {},
   "outputs": [],
   "source": [
    "mean = np.mean(data)\n",
    "median = np.mean(data)\n",
    "\n",
    "print(mean, median, np.abs(mean-median))"
   ]
  },
  {
   "cell_type": "markdown",
   "metadata": {},
   "source": [
    "Punto 3: prueba con 10000 datos"
   ]
  },
  {
   "cell_type": "code",
   "execution_count": null,
   "metadata": {},
   "outputs": [],
   "source": [
    "n = 10000\n",
    "data = np.random.normal(loc=3.0, scale=1.5, size=n)\n",
    "print(data)"
   ]
  },
  {
   "cell_type": "code",
   "execution_count": null,
   "metadata": {},
   "outputs": [],
   "source": [
    "\n",
    "col=10\n",
    "plt.hist(x=data, bins=col)"
   ]
  },
  {
   "cell_type": "code",
   "execution_count": null,
   "metadata": {},
   "outputs": [],
   "source": [
    "\n",
    "col=20\n",
    "plt.hist(x=data, bins=col)"
   ]
  },
  {
   "cell_type": "code",
   "execution_count": null,
   "metadata": {},
   "outputs": [],
   "source": [
    "\n",
    "col=30\n",
    "plt.hist(x=data, bins=col)"
   ]
  },
  {
   "cell_type": "code",
   "execution_count": 5,
   "metadata": {},
   "outputs": [
    {
     "name": "stdout",
     "output_type": "stream",
     "text": [
      "3.762424185213667 3.762424185213667 0.0\n"
     ]
    }
   ],
   "source": [
    "mean = np.mean(data)\n",
    "median = np.mean(data)\n",
    "\n",
    "print(mean, median, np.abs(mean-median))"
   ]
  },
  {
   "cell_type": "markdown",
   "metadata": {},
   "source": [
    "Punto 3: prueba con 100000 datos"
   ]
  },
  {
   "cell_type": "code",
   "execution_count": null,
   "metadata": {},
   "outputs": [],
   "source": [
    "n = 100000\n",
    "data = np.random.normal(loc=3.0, scale=1.5, size=n)\n",
    "print(data)"
   ]
  },
  {
   "cell_type": "code",
   "execution_count": null,
   "metadata": {},
   "outputs": [],
   "source": [
    "\n",
    "col=10\n",
    "plt.hist(x=data, bins=col)"
   ]
  },
  {
   "cell_type": "code",
   "execution_count": null,
   "metadata": {},
   "outputs": [],
   "source": [
    "\n",
    "col=20\n",
    "plt.hist(x=data, bins=col)"
   ]
  },
  {
   "cell_type": "code",
   "execution_count": null,
   "metadata": {},
   "outputs": [],
   "source": [
    "\n",
    "col=30\n",
    "plt.hist(x=data, bins=col)"
   ]
  },
  {
   "cell_type": "code",
   "execution_count": 5,
   "metadata": {},
   "outputs": [
    {
     "name": "stdout",
     "output_type": "stream",
     "text": [
      "3.762424185213667 3.762424185213667 0.0\n"
     ]
    }
   ],
   "source": [
    "mean = np.mean(data)\n",
    "median = np.mean(data)\n",
    "\n",
    "print(mean, median, np.abs(mean-median))"
   ]
  },
  {
   "cell_type": "code",
   "execution_count": null,
   "metadata": {},
   "outputs": [],
   "source": []
  }
 ],
 "metadata": {
  "kernelspec": {
   "display_name": "Python 3",
   "language": "python",
   "name": "python3"
  },
  "language_info": {
   "codemirror_mode": {
    "name": "ipython",
    "version": 3
   },
   "file_extension": ".py",
   "mimetype": "text/x-python",
   "name": "python",
   "nbconvert_exporter": "python",
   "pygments_lexer": "ipython3",
   "version": "3.7.2"
  }
 },
 "nbformat": 4,
 "nbformat_minor": 2
}
