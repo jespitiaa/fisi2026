{
 "cells": [
  {
   "cell_type": "code",
   "execution_count": 1,
   "metadata": {
    "collapsed": true
   },
   "outputs": [],
   "source": [
    "import numpy as np\n",
    "import matplotlib.pyplot as plt\n",
    "import scipy.special as sp"
   ]
  },
  {
   "cell_type": "code",
   "execution_count": 2,
   "metadata": {
    "collapsed": true
   },
   "outputs": [],
   "source": [
    "x = np.linspace(0,20,100)\n",
    "y = sp.jv(1,x)"
   ]
  },
  {
   "cell_type": "code",
   "execution_count": 3,
   "metadata": {
    "collapsed": false
   },
   "outputs": [
    {
     "name": "stdout",
     "output_type": "stream",
     "text": [
      "se pasa cerca de un cero en x = 0.20202020202 / valor: 0.100495671469\n",
      "se pasa cerca de un cero en x = 3.83838383838 / valor: -0.00268721457165\n",
      "se pasa cerca de un cero en x = 7.07070707071 / valor: 0.0164696784494\n",
      "se pasa cerca de un cero en x = 10.303030303 / valor: -0.0320590200574\n",
      "se pasa cerca de un cero en x = 13.3333333333 / valor: 0.00210449596081\n",
      "se pasa cerca de un cero en x = 16.5656565657 / valor: -0.0185878679867\n",
      "se pasa cerca de un cero en x = 19.797979798 / valor: 0.0324623918365\n"
     ]
    }
   ],
   "source": [
    "idx = 0\n",
    "fval = y[0] > 0\n",
    "idxvals = []\n",
    "while idx < len(x):\n",
    "    val = y[idx]\n",
    "    if idx !=0:\n",
    "        if val == 0:\n",
    "            print(\"hay un cero en x = \" + str(x[idx]))\n",
    "        elif (val > 0)!= fval:\n",
    "            if np.abs(y[idx]) < 0.2:\n",
    "                print(\"se pasa cerca de un cero en x = \" + str(x[idx]) + \" / valor: \"+ str(y[idx]))\n",
    "                idxvals.append(x[idx])\n",
    "\n",
    "    fval  = (val>0)\n",
    "    idx += 1"
   ]
  },
  {
   "cell_type": "code",
   "execution_count": 4,
   "metadata": {
    "collapsed": false
   },
   "outputs": [
    {
     "name": "stdout",
     "output_type": "stream",
     "text": [
      "[0.20202020202020202, 3.8383838383838382, 7.0707070707070709, 10.303030303030303, 13.333333333333334, 16.565656565656564, 19.797979797979799]\n"
     ]
    }
   ],
   "source": [
    "print(idxvals)"
   ]
  },
  {
   "cell_type": "code",
   "execution_count": 5,
   "metadata": {
    "collapsed": true
   },
   "outputs": [],
   "source": [
    "#Metodo de Newton-Raphson\n",
    "def derivada(x):\n",
    "    h = 0.000001\n",
    "    return (sp.jv(1,x+h)-sp.jv(1,x-h))/(h*2)\n",
    "    "
   ]
  },
  {
   "cell_type": "code",
   "execution_count": 6,
   "metadata": {
    "collapsed": true
   },
   "outputs": [],
   "source": [
    "def newton(x,n):\n",
    "    for i in range (n):\n",
    "        if derivada(x) == 0:\n",
    "            return x\n",
    "        x = x - sp.jv(1,x)/derivada(x)\n",
    "    return x"
   ]
  },
  {
   "cell_type": "code",
   "execution_count": 17,
   "metadata": {
    "collapsed": false
   },
   "outputs": [
    {
     "name": "stdout",
     "output_type": "stream",
     "text": [
      "x:3.83838383838 converge a 3.83170597021. Error: -0.0\n",
      "x:7.07070707071 converge a 7.01558666982. Error: -2.07570395942e-16\n",
      "x:10.303030303 converge a 10.1734681351. Error: -4.71782948373e-16\n",
      "x:13.3333333333 converge a 13.3236919363. Error: 1.42926243041e-16\n",
      "x:16.5656565657 converge a 16.4706300509. Error: -1.37111869532e-16\n",
      "x:19.797979798 converge a 19.6158585105. Error: 2.04342062985e-16\n"
     ]
    }
   ],
   "source": [
    "for i in range (1,len(idxvals)):\n",
    "    act = idxvals[i]\n",
    "    error = sp.jv(1,newton(act,10))\n",
    "    while error > 0.0001:\n",
    "        act = newton(act,10)\n",
    "        error = sp.jv(1,newton(act,10))\n",
    "    print(\"x:\"+str(idxvals[i])+\" converge a \" + str(newton(idxvals[i],10)) + \". Error: \" + str(error))\n",
    "    "
   ]
  },
  {
   "cell_type": "code",
   "execution_count": null,
   "metadata": {
    "collapsed": true
   },
   "outputs": [],
   "source": []
  }
 ],
 "metadata": {
  "kernelspec": {
   "display_name": "Python 2",
   "language": "python",
   "name": "python2"
  },
  "language_info": {
   "codemirror_mode": {
    "name": "ipython",
    "version": 2
   },
   "file_extension": ".py",
   "mimetype": "text/x-python",
   "name": "python",
   "nbconvert_exporter": "python",
   "pygments_lexer": "ipython2",
   "version": "2.7.12"
  }
 },
 "nbformat": 4,
 "nbformat_minor": 2
}
