{
 "cells": [
  {
   "cell_type": "code",
   "execution_count": 1,
   "metadata": {
    "collapsed": false
   },
   "outputs": [],
   "source": [
    "import numpy as np\n",
    "import matplotlib.pyplot as plt\n",
    "import scipy.special as sp"
   ]
  },
  {
   "cell_type": "code",
   "execution_count": 2,
   "metadata": {
    "collapsed": true
   },
   "outputs": [],
   "source": [
    "x = np.linspace(0,20,100)\n",
    "y = sp.jv(1,x)"
   ]
  },
  {
   "cell_type": "code",
   "execution_count": 3,
   "metadata": {
    "collapsed": false
   },
   "outputs": [
    {
     "name": "stdout",
     "output_type": "stream",
     "text": [
      "[ 0.44005059  0.57672481]\n"
     ]
    }
   ],
   "source": [
    "print(sp.jv(1,[1,2]))"
   ]
  },
  {
   "cell_type": "code",
   "execution_count": 4,
   "metadata": {
    "collapsed": false
   },
   "outputs": [
    {
     "data": {
      "text/plain": [
       "<matplotlib.lines.Line2D at 0x7f0dfc8d83d0>"
      ]
     },
     "execution_count": 4,
     "metadata": {},
     "output_type": "execute_result"
    }
   ],
   "source": [
    "plt.title(\"Funcion de Bessel de primer orden\")\n",
    "plt.plot(x,y)\n",
    "plt.grid(True)\n",
    "plt.axhline(y=0, color=\"black\")\n",
    "plt.axvline(x=0, color=\"black\")"
   ]
  },
  {
   "cell_type": "code",
   "execution_count": 5,
   "metadata": {
    "collapsed": false
   },
   "outputs": [
    {
     "name": "stdout",
     "output_type": "stream",
     "text": [
      "100\n"
     ]
    }
   ],
   "source": [
    "print(len(x))"
   ]
  },
  {
   "cell_type": "code",
   "execution_count": 6,
   "metadata": {
    "collapsed": true
   },
   "outputs": [],
   "source": [
    "idxvals = []"
   ]
  },
  {
   "cell_type": "code",
   "execution_count": 7,
   "metadata": {
    "collapsed": false,
    "scrolled": true
   },
   "outputs": [
    {
     "name": "stdout",
     "output_type": "stream",
     "text": [
      "se pasa cerca de un cero en x = 0.20202020202 / valor: 0.100495671469\n",
      "se pasa cerca de un cero en x = 3.83838383838 / valor: -0.00268721457165\n",
      "se pasa cerca de un cero en x = 7.07070707071 / valor: 0.0164696784494\n",
      "se pasa cerca de un cero en x = 10.303030303 / valor: -0.0320590200574\n",
      "se pasa cerca de un cero en x = 13.3333333333 / valor: 0.00210449596081\n",
      "se pasa cerca de un cero en x = 16.5656565657 / valor: -0.0185878679867\n",
      "se pasa cerca de un cero en x = 19.797979798 / valor: 0.0324623918365\n"
     ]
    }
   ],
   "source": [
    "#Punto 1.2\n",
    "idx = 0\n",
    "fval = y[0] > 0\n",
    "while idx < len(x):\n",
    "    val = y[idx]\n",
    "    if idx !=0:\n",
    "        if val == 0:\n",
    "            print(\"hay un cero en x = \" + str(x[idx]))\n",
    "        elif (val > 0)!= fval:\n",
    "            if np.abs(y[idx]) < 0.2:\n",
    "                print(\"se pasa cerca de un cero en x = \" + str(x[idx]) + \" / valor: \"+ str(y[idx]))\n",
    "                idxvals.append(x[idx])\n",
    "\n",
    "    fval  = (val>0)\n",
    "    idx += 1"
   ]
  },
  {
   "cell_type": "code",
   "execution_count": 14,
   "metadata": {
    "collapsed": false
   },
   "outputs": [
    {
     "name": "stdout",
     "output_type": "stream",
     "text": [
      "[0.20202020202020202, 3.8383838383838382, 7.0707070707070709, 10.303030303030303, 13.333333333333334, 16.565656565656564, 19.797979797979799]\n"
     ]
    }
   ],
   "source": [
    "print (idxvals)"
   ]
  },
  {
   "cell_type": "code",
   "execution_count": 9,
   "metadata": {
    "collapsed": true
   },
   "outputs": [],
   "source": [
    "#Punto 1.3\n",
    "def biseccion(a,b,tol):\n",
    "    fa = sp.jv(1,a)\n",
    "    fb = sp.jv(1,b)\n",
    "    xa = a\n",
    "    xb = b\n",
    "    if(fa*fb > 0):\n",
    "        raise Exception(\"No pudo hacer biseccion de \" + str(a) + \" a \" + str(b))\n",
    "    xc = (xa + xb) /2.0\n",
    "    i = 0\n",
    "    while np.abs(xa - xb) > tol:\n",
    "        i+=1\n",
    "        if fa==0:\n",
    "            return xc\n",
    "        elif fa * fb < 0 :\n",
    "            xb = xc\n",
    "        else:\n",
    "            xa = xc\n",
    "        xc = (xa+xb)/2.0\n",
    "    print(str(i) + \" iteraciones para la bisección\")\n",
    "    return xc \n",
    "        "
   ]
  },
  {
   "cell_type": "code",
   "execution_count": 13,
   "metadata": {
    "collapsed": false,
    "scrolled": false
   },
   "outputs": [
    {
     "name": "stdout",
     "output_type": "stream",
     "text": [
      "-0.29797979798\n",
      "4 iteraciones para la bisección\n",
      "para i:0 se tiene  x:-0.26672979798\n",
      "3.33838383838\n",
      "4 iteraciones para la bisección\n",
      "para i:1 se tiene  x:3.36963383838\n",
      "6.57070707071\n",
      "4 iteraciones para la bisección\n",
      "para i:2 se tiene  x:6.60195707071\n",
      "9.80303030303\n",
      "4 iteraciones para la bisección\n",
      "para i:3 se tiene  x:9.83428030303\n",
      "12.8333333333\n",
      "4 iteraciones para la bisección\n",
      "para i:4 se tiene  x:12.8645833333\n",
      "16.0656565657\n",
      "4 iteraciones para la bisección\n",
      "para i:5 se tiene  x:16.0969065657\n",
      "19.297979798\n",
      "4 iteraciones para la bisección\n",
      "para i:6 se tiene  x:19.329229798\n"
     ]
    }
   ],
   "source": [
    "for i in range (0,len(idxvals)):\n",
    "    mn = idxvals[i] - 0.5\n",
    "    mx = idxvals[i] + 0.5\n",
    "    print(mn)\n",
    "    print(\"para i:\" + str(i) + \" se tiene  x:\" + str(biseccion(mn, mx, 0.0001)))"
   ]
  },
  {
   "cell_type": "code",
   "execution_count": null,
   "metadata": {
    "collapsed": true
   },
   "outputs": [],
   "source": []
  }
 ],
 "metadata": {
  "kernelspec": {
   "display_name": "Python 2",
   "language": "python",
   "name": "python2"
  },
  "language_info": {
   "codemirror_mode": {
    "name": "ipython",
    "version": 2
   },
   "file_extension": ".py",
   "mimetype": "text/x-python",
   "name": "python",
   "nbconvert_exporter": "python",
   "pygments_lexer": "ipython2",
   "version": "2.7.12"
  }
 },
 "nbformat": 4,
 "nbformat_minor": 2
}
