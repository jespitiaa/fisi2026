{
 "cells": [
  {
   "cell_type": "code",
   "execution_count": 1,
   "metadata": {},
   "outputs": [],
   "source": [
    "import numpy as np\n",
    "import matplotlib.pyplot as plt\n",
    "import scipy.special as sp"
   ]
  },
  {
   "cell_type": "code",
   "execution_count": 2,
   "metadata": {},
   "outputs": [],
   "source": [
    "x = np.linspace(0,20,100)\n",
    "y = sp.jv(1,x)"
   ]
  },
  {
   "cell_type": "code",
   "execution_count": 3,
   "metadata": {},
   "outputs": [
    {
     "data": {
      "text/plain": [
       "<matplotlib.lines.Line2D at 0x7faf3fac3c18>"
      ]
     },
     "execution_count": 3,
     "metadata": {},
     "output_type": "execute_result"
    },
    {
     "data": {
      "image/png": "[encoded data removed]",
      "text/plain": [
       "<Figure size 432x288 with 1 Axes>"
      ]
     },
     "metadata": {
      "needs_background": "light"
     },
     "output_type": "display_data"
    }
   ],
   "source": [
    "plt.title(\"Funcion de Bessel de primer orden\")\n",
    "plt.plot(x,y)\n",
    "plt.grid(True)\n",
    "plt.axhline(y=0, color=\"black\")\n",
    "plt.axvline(x=0, color=\"black\")"
   ]
  },
  {
   "cell_type": "code",
   "execution_count": 4,
   "metadata": {},
   "outputs": [
    {
     "name": "stdout",
     "output_type": "stream",
     "text": [
      "100\n"
     ]
    }
   ],
   "source": [
    "print(len(x))"
   ]
  },
  {
   "cell_type": "code",
   "execution_count": 8,
   "metadata": {},
   "outputs": [
    {
     "name": "stdout",
     "output_type": "stream",
     "text": [
      "se paso cerca de un cero en x = 0.20202020202020202 / valor: 0.1004956714691176\n",
      "se paso cerca de un cero en x = 3.8383838383838382 / valor: -0.002687214571645661\n",
      "se paso cerca de un cero en x = 7.070707070707071 / valor: 0.01646967844937418\n",
      "se paso cerca de un cero en x = 10.303030303030303 / valor: -0.03205902005744585\n",
      "se paso cerca de un cero en x = 13.333333333333334 / valor: 0.002104495960806277\n",
      "se paso cerca de un cero en x = 16.565656565656564 / valor: -0.018587867986712987\n",
      "se paso cerca de un cero en x = 19.7979797979798 / valor: 0.032462391836503124\n"
     ]
    }
   ],
   "source": [
    "#Punto 1.2\n",
    "idx = 0\n",
    "fval = y[0] > 0\n",
    "while idx < len(x):\n",
    "    val = y[idx]\n",
    "    if idx !=0:\n",
    "        if val == 0:\n",
    "            print(\"hay un cero en x = \" + str(x[idx]))\n",
    "        elif (val > 0)!= fval:\n",
    "            if np.abs(y[idx]) < 0.2:\n",
    "                print(\"se pasa cerca de un cero en x = \" + str(x[idx]) + \" / valor: \"+ str(y[idx]))\n",
    "\n",
    "    fval  = (val>0)\n",
    "    idx += 1"
   ]
  },
  {
   "cell_type": "code",
   "execution_count": null,
   "metadata": {},
   "outputs": [],
   "source": []
  }
 ],
 "metadata": {
  "kernelspec": {
   "display_name": "Python 3",
   "language": "python",
   "name": "python3"
  },
  "language_info": {
   "codemirror_mode": {
    "name": "ipython",
    "version": 3
   },
   "file_extension": ".py",
   "mimetype": "text/x-python",
   "name": "python",
   "nbconvert_exporter": "python",
   "pygments_lexer": "ipython3",
   "version": "3.7.2"
  }
 },
 "nbformat": 4,
 "nbformat_minor": 2
}
