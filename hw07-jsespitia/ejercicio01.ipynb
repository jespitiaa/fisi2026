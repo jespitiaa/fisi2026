{
 "cells": [
  {
   "cell_type": "code",
   "execution_count": 1,
   "metadata": {},
   "outputs": [
    {
     "name": "stdout",
     "output_type": "stream",
     "text": [
      "Populating the interactive namespace from numpy and matplotlib\n"
     ]
    }
   ],
   "source": [
    "%pylab inline"
   ]
  },
  {
   "cell_type": "code",
   "execution_count": 2,
   "metadata": {},
   "outputs": [],
   "source": [
    "import math"
   ]
  },
  {
   "cell_type": "code",
   "execution_count": 3,
   "metadata": {},
   "outputs": [],
   "source": [
    "a = np.linspace(-2*math.pi, 2*math.pi, num=30)"
   ]
  },
  {
   "cell_type": "code",
   "execution_count": 4,
   "metadata": {},
   "outputs": [],
   "source": [
    "b = np.sin(a)"
   ]
  },
  {
   "cell_type": "code",
   "execution_count": 5,
   "metadata": {},
   "outputs": [],
   "source": [
    "plt.axis(\"equal\")\n",
    "plt.plot(a,b)    \n",
    "plt.title('Grafica del seno')\n",
    "plt.savefig('sin2pi.png')\n",
    "plt.close()"
   ]
  },
  {
   "cell_type": "code",
   "execution_count": 6,
   "metadata": {},
   "outputs": [],
   "source": [
    "#Parte b ajedrez"
   ]
  },
  {
   "cell_type": "code",
   "execution_count": 7,
   "metadata": {},
   "outputs": [],
   "source": [
    "board = np.zeros([8,8],dtype = int)"
   ]
  },
  {
   "cell_type": "code",
   "execution_count": 8,
   "metadata": {},
   "outputs": [],
   "source": [
    "color = 0"
   ]
  },
  {
   "cell_type": "code",
   "execution_count": 9,
   "metadata": {},
   "outputs": [],
   "source": [
    "for i in range(0,len(board)):\n",
    "    for j in range(0,len(board[i])):\n",
    "        if(color==1):\n",
    "            board[i][j]=1\n",
    "            color = 0\n",
    "        else:\n",
    "            color = 1\n",
    "    if(color==1):\n",
    "        color = 0\n",
    "    else:\n",
    "        color = 1  "
   ]
  },
  {
   "cell_type": "code",
   "execution_count": 10,
   "metadata": {},
   "outputs": [
    {
     "name": "stdout",
     "output_type": "stream",
     "text": [
      "[[0 1 0 1 0 1 0 1]\n",
      " [1 0 1 0 1 0 1 0]\n",
      " [0 1 0 1 0 1 0 1]\n",
      " [1 0 1 0 1 0 1 0]\n",
      " [0 1 0 1 0 1 0 1]\n",
      " [1 0 1 0 1 0 1 0]\n",
      " [0 1 0 1 0 1 0 1]\n",
      " [1 0 1 0 1 0 1 0]]\n"
     ]
    }
   ],
   "source": [
    "print(board)"
   ]
  },
  {
   "cell_type": "code",
   "execution_count": 11,
   "metadata": {},
   "outputs": [
    {
     "data": {
      "image/png": "[encoded data removed]",
      "text/plain": [
       "<Figure size 432x288 with 1 Axes>"
      ]
     },
     "metadata": {
      "needs_background": "light"
     },
     "output_type": "display_data"
    }
   ],
   "source": [
    "plt.imshow(board)\n",
    "plt.savefig('ajedrez.png')"
   ]
  },
  {
   "cell_type": "code",
   "execution_count": 12,
   "metadata": {},
   "outputs": [],
   "source": [
    "#Ajedrez en 3D\n",
    "board3D = np.zeros([4,8,8],dtype = int)\n",
    "color = 0"
   ]
  },
  {
   "cell_type": "code",
   "execution_count": 13,
   "metadata": {},
   "outputs": [],
   "source": [
    "for i in range(0,len(board3D)):\n",
    "    for j in range(0,len(board3D[i])):\n",
    "        for k in range(0,len(board3D[i][j])):\n",
    "            if(color==1):\n",
    "                board3D[i][j][k] = 1\n",
    "                color = 0\n",
    "            else:\n",
    "                color = 1\n",
    "        if(color==1):\n",
    "            color = 0\n",
    "        else:\n",
    "            color = 1\n",
    "    if(color==1):\n",
    "        color = 0\n",
    "    else:\n",
    "        color = 1"
   ]
  },
  {
   "cell_type": "code",
   "execution_count": 14,
   "metadata": {},
   "outputs": [
    {
     "name": "stdout",
     "output_type": "stream",
     "text": [
      "[[[0 1 0 1 0 1 0 1]\n",
      "  [1 0 1 0 1 0 1 0]\n",
      "  [0 1 0 1 0 1 0 1]\n",
      "  [1 0 1 0 1 0 1 0]\n",
      "  [0 1 0 1 0 1 0 1]\n",
      "  [1 0 1 0 1 0 1 0]\n",
      "  [0 1 0 1 0 1 0 1]\n",
      "  [1 0 1 0 1 0 1 0]]\n",
      "\n",
      " [[1 0 1 0 1 0 1 0]\n",
      "  [0 1 0 1 0 1 0 1]\n",
      "  [1 0 1 0 1 0 1 0]\n",
      "  [0 1 0 1 0 1 0 1]\n",
      "  [1 0 1 0 1 0 1 0]\n",
      "  [0 1 0 1 0 1 0 1]\n",
      "  [1 0 1 0 1 0 1 0]\n",
      "  [0 1 0 1 0 1 0 1]]\n",
      "\n",
      " [[0 1 0 1 0 1 0 1]\n",
      "  [1 0 1 0 1 0 1 0]\n",
      "  [0 1 0 1 0 1 0 1]\n",
      "  [1 0 1 0 1 0 1 0]\n",
      "  [0 1 0 1 0 1 0 1]\n",
      "  [1 0 1 0 1 0 1 0]\n",
      "  [0 1 0 1 0 1 0 1]\n",
      "  [1 0 1 0 1 0 1 0]]\n",
      "\n",
      " [[1 0 1 0 1 0 1 0]\n",
      "  [0 1 0 1 0 1 0 1]\n",
      "  [1 0 1 0 1 0 1 0]\n",
      "  [0 1 0 1 0 1 0 1]\n",
      "  [1 0 1 0 1 0 1 0]\n",
      "  [0 1 0 1 0 1 0 1]\n",
      "  [1 0 1 0 1 0 1 0]\n",
      "  [0 1 0 1 0 1 0 1]]]\n"
     ]
    }
   ],
   "source": [
    "print(board3D)"
   ]
  },
  {
   "cell_type": "code",
   "execution_count": 15,
   "metadata": {},
   "outputs": [],
   "source": [
    "#Parte C array diagonal-creciente"
   ]
  },
  {
   "cell_type": "code",
   "execution_count": 16,
   "metadata": {},
   "outputs": [],
   "source": [
    "n = 4"
   ]
  },
  {
   "cell_type": "code",
   "execution_count": 17,
   "metadata": {},
   "outputs": [],
   "source": [
    "arr = np.zeros([n,n],dtype=int)"
   ]
  },
  {
   "cell_type": "code",
   "execution_count": 18,
   "metadata": {},
   "outputs": [],
   "source": [
    "for i in range(0,n):\n",
    "    arr[i][i] = 1"
   ]
  },
  {
   "cell_type": "code",
   "execution_count": 19,
   "metadata": {},
   "outputs": [],
   "source": [
    "num = 2"
   ]
  },
  {
   "cell_type": "code",
   "execution_count": 20,
   "metadata": {},
   "outputs": [],
   "source": [
    "for i in range(0,n):\n",
    "    for j in range(0,i):\n",
    "        arr[i][j] = num\n",
    "        num+=1"
   ]
  },
  {
   "cell_type": "code",
   "execution_count": 21,
   "metadata": {},
   "outputs": [
    {
     "name": "stdout",
     "output_type": "stream",
     "text": [
      "[[1 0 0 0]\n",
      " [2 1 0 0]\n",
      " [3 4 1 0]\n",
      " [5 6 7 1]]\n"
     ]
    }
   ],
   "source": [
    "print(arr)"
   ]
  },
  {
   "cell_type": "code",
   "execution_count": null,
   "metadata": {},
   "outputs": [],
   "source": []
  }
 ],
 "metadata": {
  "kernelspec": {
   "display_name": "Python 3",
   "language": "python",
   "name": "python3"
  },
  "language_info": {
   "codemirror_mode": {
    "name": "ipython",
    "version": 3
   },
   "file_extension": ".py",
   "mimetype": "text/x-python",
   "name": "python",
   "nbconvert_exporter": "python",
   "pygments_lexer": "ipython3",
   "version": "3.6.7"
  }
 },
 "nbformat": 4,
 "nbformat_minor": 2
}
