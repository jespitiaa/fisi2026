{
 "cells": [
  {
   "cell_type": "code",
   "execution_count": 1,
   "metadata": {},
   "outputs": [],
   "source": [
    "import matplotlib.pyplot as plt\n",
    "import numpy as np\n",
    "from scipy import integrate"
   ]
  },
  {
   "cell_type": "code",
   "execution_count": 2,
   "metadata": {},
   "outputs": [],
   "source": [
    "def f(x,y):\n",
    "    return np.cos(np.pi*x)*np.exp(-(x**2 + y**2)/(2*np.pi**2)) +5"
   ]
  },
  {
   "cell_type": "code",
   "execution_count": 5,
   "metadata": {},
   "outputs": [],
   "source": [
    "yt, errt = integrate.dblquad(func = f, a=-5.0,b=5.0, gfun=-3.0, hfun=3.0) "
   ]
  },
  {
   "cell_type": "code",
   "execution_count": 7,
   "metadata": {},
   "outputs": [],
   "source": [
    "def MonteCarlo_double(f, g, x0, x1, y0, y1, n):\n",
    "    \"\"\"\n",
    "    Monte Carlo integration of f over a domain g>=0, embedded\n",
    "    in a rectangle [x0,x1]x[y0,y1]. n^2 is the number of\n",
    "    random points.\n",
    "    \"\"\"\n",
    "    # Draw n**2 random points in the rectangle\n",
    "    x = np.random.uniform(x0, x1, n)\n",
    "    y = np.random.uniform(y0, y1, n)\n",
    "    # Compute sum of f values inside the integration domain\n",
    "    f_mean = 0\n",
    "    num_inside = 0   # number of x,y points inside domain (g>=0)\n",
    "    for i in range(len(x)):\n",
    "        for j in range(len(y)):\n",
    "            if g(x[i], y[j]) >= 0:\n",
    "                num_inside += 1\n",
    "                f_mean += f(x[i], y[j])\n",
    "    f_mean = f_mean/float(num_inside)\n",
    "    area = num_inside/float(n**2)*(x1 - x0)*(y1 - y0)\n",
    "    return area*f_mean\n",
    "    "
   ]
  },
  {
   "cell_type": "code",
   "execution_count": null,
   "metadata": {},
   "outputs": [],
   "source": [
    "print(MonteCarlo_double(f,   ))"
   ]
  }
 ],
 "metadata": {
  "kernelspec": {
   "display_name": "Python 3",
   "language": "python",
   "name": "python3"
  },
  "language_info": {
   "codemirror_mode": {
    "name": "ipython",
    "version": 3
   },
   "file_extension": ".py",
   "mimetype": "text/x-python",
   "name": "python",
   "nbconvert_exporter": "python",
   "pygments_lexer": "ipython3",
   "version": "3.7.3"
  }
 },
 "nbformat": 4,
 "nbformat_minor": 2
}
